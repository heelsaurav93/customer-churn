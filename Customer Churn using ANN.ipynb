{
 "cells": [
  {
   "cell_type": "markdown",
   "metadata": {},
   "source": [
    "# This program predicts whether a customer of a certain bank will churn out."
   ]
  },
  {
   "cell_type": "code",
   "execution_count": 2,
   "metadata": {},
   "outputs": [],
   "source": [
    "#importing required libraries\n",
    "import numpy as np\n",
    "import pandas as pd\n",
    "import os\n",
    "import matplotlib.pyplot as plt"
   ]
  },
  {
   "cell_type": "code",
   "execution_count": 3,
   "metadata": {
    "scrolled": true
   },
   "outputs": [
    {
     "data": {
      "text/plain": [
       "'D:\\\\P16-Deep-Learning-AZ\\\\Deep_Learning_A_Z\\\\Volume 1 - Supervised Deep Learning\\\\Part 1 - Artificial Neural Networks (ANN)\\\\Section 4 - Building an ANN\\\\Artificial_Neural_Networks'"
      ]
     },
     "execution_count": 3,
     "metadata": {},
     "output_type": "execute_result"
    }
   ],
   "source": [
    "#changing directory\n",
    "os.chdir(r\"D:\\P16-Deep-Learning-AZ\\Deep_Learning_A_Z\\Volume 1 - Supervised Deep Learning\\Part 1 - Artificial Neural Networks (ANN)\\Section 4 - Building an ANN\\Artificial_Neural_Networks\")\n",
    "os.getcwd()"
   ]
  },
  {
   "cell_type": "code",
   "execution_count": 4,
   "metadata": {},
   "outputs": [],
   "source": [
    "#loading the dataset\n",
    "df = pd.read_csv(\"Churn_Modelling.csv\", sep = \",\", encoding = \"ISO-8859-1\")"
   ]
  },
  {
   "cell_type": "code",
   "execution_count": 5,
   "metadata": {},
   "outputs": [
    {
     "data": {
      "text/plain": [
       "(10000, 14)"
      ]
     },
     "execution_count": 5,
     "metadata": {},
     "output_type": "execute_result"
    }
   ],
   "source": [
    "#checking shape\n",
    "df.shape"
   ]
  },
  {
   "cell_type": "code",
   "execution_count": 6,
   "metadata": {
    "scrolled": true
   },
   "outputs": [
    {
     "data": {
      "text/html": [
       "<div>\n",
       "<style scoped>\n",
       "    .dataframe tbody tr th:only-of-type {\n",
       "        vertical-align: middle;\n",
       "    }\n",
       "\n",
       "    .dataframe tbody tr th {\n",
       "        vertical-align: top;\n",
       "    }\n",
       "\n",
       "    .dataframe thead th {\n",
       "        text-align: right;\n",
       "    }\n",
       "</style>\n",
       "<table border=\"1\" class=\"dataframe\">\n",
       "  <thead>\n",
       "    <tr style=\"text-align: right;\">\n",
       "      <th></th>\n",
       "      <th>RowNumber</th>\n",
       "      <th>CustomerId</th>\n",
       "      <th>Surname</th>\n",
       "      <th>CreditScore</th>\n",
       "      <th>Geography</th>\n",
       "      <th>Gender</th>\n",
       "      <th>Age</th>\n",
       "      <th>Tenure</th>\n",
       "      <th>Balance</th>\n",
       "      <th>NumOfProducts</th>\n",
       "      <th>HasCrCard</th>\n",
       "      <th>IsActiveMember</th>\n",
       "      <th>EstimatedSalary</th>\n",
       "      <th>Exited</th>\n",
       "    </tr>\n",
       "  </thead>\n",
       "  <tbody>\n",
       "    <tr>\n",
       "      <th>0</th>\n",
       "      <td>1</td>\n",
       "      <td>15634602</td>\n",
       "      <td>Hargrave</td>\n",
       "      <td>619</td>\n",
       "      <td>France</td>\n",
       "      <td>Female</td>\n",
       "      <td>42</td>\n",
       "      <td>2</td>\n",
       "      <td>0.00</td>\n",
       "      <td>1</td>\n",
       "      <td>1</td>\n",
       "      <td>1</td>\n",
       "      <td>101348.88</td>\n",
       "      <td>1</td>\n",
       "    </tr>\n",
       "    <tr>\n",
       "      <th>1</th>\n",
       "      <td>2</td>\n",
       "      <td>15647311</td>\n",
       "      <td>Hill</td>\n",
       "      <td>608</td>\n",
       "      <td>Spain</td>\n",
       "      <td>Female</td>\n",
       "      <td>41</td>\n",
       "      <td>1</td>\n",
       "      <td>83807.86</td>\n",
       "      <td>1</td>\n",
       "      <td>0</td>\n",
       "      <td>1</td>\n",
       "      <td>112542.58</td>\n",
       "      <td>0</td>\n",
       "    </tr>\n",
       "    <tr>\n",
       "      <th>2</th>\n",
       "      <td>3</td>\n",
       "      <td>15619304</td>\n",
       "      <td>Onio</td>\n",
       "      <td>502</td>\n",
       "      <td>France</td>\n",
       "      <td>Female</td>\n",
       "      <td>42</td>\n",
       "      <td>8</td>\n",
       "      <td>159660.80</td>\n",
       "      <td>3</td>\n",
       "      <td>1</td>\n",
       "      <td>0</td>\n",
       "      <td>113931.57</td>\n",
       "      <td>1</td>\n",
       "    </tr>\n",
       "    <tr>\n",
       "      <th>3</th>\n",
       "      <td>4</td>\n",
       "      <td>15701354</td>\n",
       "      <td>Boni</td>\n",
       "      <td>699</td>\n",
       "      <td>France</td>\n",
       "      <td>Female</td>\n",
       "      <td>39</td>\n",
       "      <td>1</td>\n",
       "      <td>0.00</td>\n",
       "      <td>2</td>\n",
       "      <td>0</td>\n",
       "      <td>0</td>\n",
       "      <td>93826.63</td>\n",
       "      <td>0</td>\n",
       "    </tr>\n",
       "    <tr>\n",
       "      <th>4</th>\n",
       "      <td>5</td>\n",
       "      <td>15737888</td>\n",
       "      <td>Mitchell</td>\n",
       "      <td>850</td>\n",
       "      <td>Spain</td>\n",
       "      <td>Female</td>\n",
       "      <td>43</td>\n",
       "      <td>2</td>\n",
       "      <td>125510.82</td>\n",
       "      <td>1</td>\n",
       "      <td>1</td>\n",
       "      <td>1</td>\n",
       "      <td>79084.10</td>\n",
       "      <td>0</td>\n",
       "    </tr>\n",
       "  </tbody>\n",
       "</table>\n",
       "</div>"
      ],
      "text/plain": [
       "   RowNumber  CustomerId   Surname  CreditScore Geography  Gender  Age  \\\n",
       "0          1    15634602  Hargrave          619    France  Female   42   \n",
       "1          2    15647311      Hill          608     Spain  Female   41   \n",
       "2          3    15619304      Onio          502    France  Female   42   \n",
       "3          4    15701354      Boni          699    France  Female   39   \n",
       "4          5    15737888  Mitchell          850     Spain  Female   43   \n",
       "\n",
       "   Tenure    Balance  NumOfProducts  HasCrCard  IsActiveMember  \\\n",
       "0       2       0.00              1          1               1   \n",
       "1       1   83807.86              1          0               1   \n",
       "2       8  159660.80              3          1               0   \n",
       "3       1       0.00              2          0               0   \n",
       "4       2  125510.82              1          1               1   \n",
       "\n",
       "   EstimatedSalary  Exited  \n",
       "0        101348.88       1  \n",
       "1        112542.58       0  \n",
       "2        113931.57       1  \n",
       "3         93826.63       0  \n",
       "4         79084.10       0  "
      ]
     },
     "execution_count": 6,
     "metadata": {},
     "output_type": "execute_result"
    }
   ],
   "source": [
    "#checking head\n",
    "df.head()"
   ]
  },
  {
   "cell_type": "markdown",
   "metadata": {},
   "source": [
    "## 1. Preprocessing"
   ]
  },
  {
   "cell_type": "markdown",
   "metadata": {},
   "source": [
    "This process creates a matrix of features.\n",
    "\n",
    "*Note: RowNumber, CustomerId and Surname are not important. Other 10 features are.*"
   ]
  },
  {
   "cell_type": "code",
   "execution_count": 7,
   "metadata": {},
   "outputs": [],
   "source": [
    "#creating matrix of features, basically a subset\n",
    "X = df.iloc[:, 3:13].values\n",
    "y = df.iloc[:, 13].values"
   ]
  },
  {
   "cell_type": "code",
   "execution_count": 8,
   "metadata": {},
   "outputs": [
    {
     "data": {
      "text/plain": [
       "array([[619, 'France', 'Female', ..., 1, 1, 101348.88],\n",
       "       [608, 'Spain', 'Female', ..., 0, 1, 112542.58],\n",
       "       [502, 'France', 'Female', ..., 1, 0, 113931.57],\n",
       "       ...,\n",
       "       [709, 'France', 'Female', ..., 0, 1, 42085.58],\n",
       "       [772, 'Germany', 'Male', ..., 1, 0, 92888.52],\n",
       "       [792, 'France', 'Female', ..., 1, 0, 38190.78]], dtype=object)"
      ]
     },
     "execution_count": 8,
     "metadata": {},
     "output_type": "execute_result"
    }
   ],
   "source": [
    "X"
   ]
  },
  {
   "cell_type": "markdown",
   "metadata": {},
   "source": [
    "Now, we need to encode categorical features of X. These are Geography and Gender."
   ]
  },
  {
   "cell_type": "code",
   "execution_count": 9,
   "metadata": {},
   "outputs": [],
   "source": [
    "from sklearn.preprocessing import LabelEncoder, OneHotEncoder"
   ]
  },
  {
   "cell_type": "code",
   "execution_count": 10,
   "metadata": {},
   "outputs": [],
   "source": [
    "#for Geography\n",
    "labelencoder_X_1 = LabelEncoder()\n",
    "X[:, 1] = labelencoder_X_1.fit_transform(X[:, 1])"
   ]
  },
  {
   "cell_type": "code",
   "execution_count": 11,
   "metadata": {},
   "outputs": [],
   "source": [
    "#for Gender\n",
    "labelencoder_X_2 = LabelEncoder()\n",
    "X[:, 2] = labelencoder_X_2.fit_transform(X[:, 2])"
   ]
  },
  {
   "cell_type": "markdown",
   "metadata": {},
   "source": [
    "*NOTE: Dummy variables created only for Geography, not Gender because gender has 2 categories, and we want to avoid the dummy variable trap.*"
   ]
  },
  {
   "cell_type": "code",
   "execution_count": 12,
   "metadata": {},
   "outputs": [
    {
     "name": "stderr",
     "output_type": "stream",
     "text": [
      "C:\\Users\\Saurav\\Anaconda3\\lib\\site-packages\\sklearn\\preprocessing\\_encoders.py:415: FutureWarning: The handling of integer data will change in version 0.22. Currently, the categories are determined based on the range [0, max(values)], while in the future they will be determined based on the unique values.\n",
      "If you want the future behaviour and silence this warning, you can specify \"categories='auto'\".\n",
      "In case you used a LabelEncoder before this OneHotEncoder to convert the categories to integers, then you can now use the OneHotEncoder directly.\n",
      "  warnings.warn(msg, FutureWarning)\n",
      "C:\\Users\\Saurav\\Anaconda3\\lib\\site-packages\\sklearn\\preprocessing\\_encoders.py:451: DeprecationWarning: The 'categorical_features' keyword is deprecated in version 0.20 and will be removed in 0.22. You can use the ColumnTransformer instead.\n",
      "  \"use the ColumnTransformer instead.\", DeprecationWarning)\n"
     ]
    }
   ],
   "source": [
    "#one hot encoding for Geography\n",
    "onehotencoder = OneHotEncoder(categorical_features = [1])\n",
    "X = onehotencoder.fit_transform(X).toarray()"
   ]
  },
  {
   "cell_type": "code",
   "execution_count": 13,
   "metadata": {
    "scrolled": true
   },
   "outputs": [
    {
     "data": {
      "text/plain": [
       "array([[1.0000000e+00, 0.0000000e+00, 0.0000000e+00, ..., 1.0000000e+00,\n",
       "        1.0000000e+00, 1.0134888e+05],\n",
       "       [0.0000000e+00, 0.0000000e+00, 1.0000000e+00, ..., 0.0000000e+00,\n",
       "        1.0000000e+00, 1.1254258e+05],\n",
       "       [1.0000000e+00, 0.0000000e+00, 0.0000000e+00, ..., 1.0000000e+00,\n",
       "        0.0000000e+00, 1.1393157e+05],\n",
       "       ...,\n",
       "       [1.0000000e+00, 0.0000000e+00, 0.0000000e+00, ..., 0.0000000e+00,\n",
       "        1.0000000e+00, 4.2085580e+04],\n",
       "       [0.0000000e+00, 1.0000000e+00, 0.0000000e+00, ..., 1.0000000e+00,\n",
       "        0.0000000e+00, 9.2888520e+04],\n",
       "       [1.0000000e+00, 0.0000000e+00, 0.0000000e+00, ..., 1.0000000e+00,\n",
       "        0.0000000e+00, 3.8190780e+04]])"
      ]
     },
     "execution_count": 13,
     "metadata": {},
     "output_type": "execute_result"
    }
   ],
   "source": [
    "X"
   ]
  },
  {
   "cell_type": "code",
   "execution_count": 14,
   "metadata": {},
   "outputs": [],
   "source": [
    "#removing first variable to avoid dummy variable trap\n",
    "X = X[:, 1:]"
   ]
  },
  {
   "cell_type": "code",
   "execution_count": 15,
   "metadata": {},
   "outputs": [
    {
     "data": {
      "text/plain": [
       "array([[0.0000000e+00, 0.0000000e+00, 6.1900000e+02, ..., 1.0000000e+00,\n",
       "        1.0000000e+00, 1.0134888e+05],\n",
       "       [0.0000000e+00, 1.0000000e+00, 6.0800000e+02, ..., 0.0000000e+00,\n",
       "        1.0000000e+00, 1.1254258e+05],\n",
       "       [0.0000000e+00, 0.0000000e+00, 5.0200000e+02, ..., 1.0000000e+00,\n",
       "        0.0000000e+00, 1.1393157e+05],\n",
       "       ...,\n",
       "       [0.0000000e+00, 0.0000000e+00, 7.0900000e+02, ..., 0.0000000e+00,\n",
       "        1.0000000e+00, 4.2085580e+04],\n",
       "       [1.0000000e+00, 0.0000000e+00, 7.7200000e+02, ..., 1.0000000e+00,\n",
       "        0.0000000e+00, 9.2888520e+04],\n",
       "       [0.0000000e+00, 0.0000000e+00, 7.9200000e+02, ..., 1.0000000e+00,\n",
       "        0.0000000e+00, 3.8190780e+04]])"
      ]
     },
     "execution_count": 15,
     "metadata": {},
     "output_type": "execute_result"
    }
   ],
   "source": [
    "X"
   ]
  },
  {
   "cell_type": "markdown",
   "metadata": {},
   "source": [
    "### Splitting into train and test"
   ]
  },
  {
   "cell_type": "code",
   "execution_count": 16,
   "metadata": {},
   "outputs": [],
   "source": [
    "from sklearn.model_selection import train_test_split"
   ]
  },
  {
   "cell_type": "code",
   "execution_count": 17,
   "metadata": {},
   "outputs": [],
   "source": [
    "X_train, X_test, y_train, y_test = train_test_split(X, y, test_size = 0.2, random_state = 0)"
   ]
  },
  {
   "cell_type": "markdown",
   "metadata": {},
   "source": [
    "### Feature Scaling"
   ]
  },
  {
   "cell_type": "code",
   "execution_count": 18,
   "metadata": {},
   "outputs": [],
   "source": [
    "from sklearn.preprocessing import StandardScaler"
   ]
  },
  {
   "cell_type": "code",
   "execution_count": 19,
   "metadata": {},
   "outputs": [],
   "source": [
    "sc = StandardScaler()\n",
    "X_train = sc.fit_transform(X_train)\n",
    "X_test = sc.fit_transform(X_test)"
   ]
  },
  {
   "cell_type": "code",
   "execution_count": 20,
   "metadata": {
    "scrolled": true
   },
   "outputs": [
    {
     "data": {
      "text/plain": [
       "array([[-0.5698444 ,  1.74309049,  0.16958176, ...,  0.64259497,\n",
       "        -1.03227043,  1.10643166],\n",
       "       [ 1.75486502, -0.57369368, -2.30455945, ...,  0.64259497,\n",
       "         0.9687384 , -0.74866447],\n",
       "       [-0.5698444 , -0.57369368, -1.19119591, ...,  0.64259497,\n",
       "        -1.03227043,  1.48533467],\n",
       "       ...,\n",
       "       [-0.5698444 , -0.57369368,  0.9015152 , ...,  0.64259497,\n",
       "        -1.03227043,  1.41231994],\n",
       "       [-0.5698444 ,  1.74309049, -0.62420521, ...,  0.64259497,\n",
       "         0.9687384 ,  0.84432121],\n",
       "       [ 1.75486502, -0.57369368, -0.28401079, ...,  0.64259497,\n",
       "        -1.03227043,  0.32472465]])"
      ]
     },
     "execution_count": 20,
     "metadata": {},
     "output_type": "execute_result"
    }
   ],
   "source": [
    "X_train"
   ]
  },
  {
   "cell_type": "code",
   "execution_count": 21,
   "metadata": {
    "scrolled": true
   },
   "outputs": [
    {
     "data": {
      "text/plain": [
       "array([[ 1.62776996, -0.57427105, -0.56129438, ...,  0.66011376,\n",
       "         0.97628121,  1.62185911],\n",
       "       [-0.61433742, -0.57427105, -1.33847768, ...,  0.66011376,\n",
       "        -1.02429504,  0.504204  ],\n",
       "       [-0.61433742,  1.74133801,  0.58347561, ...,  0.66011376,\n",
       "         0.97628121, -0.41865644],\n",
       "       ...,\n",
       "       [-0.61433742,  1.74133801, -0.76084144, ...,  0.66011376,\n",
       "        -1.02429504,  0.72775202],\n",
       "       [ 1.62776996, -0.57427105, -0.0046631 , ...,  0.66011376,\n",
       "         0.97628121, -1.54162886],\n",
       "       [ 1.62776996, -0.57427105, -0.81335383, ...,  0.66011376,\n",
       "        -1.02429504,  1.62356528]])"
      ]
     },
     "execution_count": 21,
     "metadata": {},
     "output_type": "execute_result"
    }
   ],
   "source": [
    "X_test"
   ]
  },
  {
   "cell_type": "markdown",
   "metadata": {},
   "source": [
    "## 2. Building the ANN"
   ]
  },
  {
   "cell_type": "code",
   "execution_count": 22,
   "metadata": {
    "scrolled": false
   },
   "outputs": [
    {
     "name": "stderr",
     "output_type": "stream",
     "text": [
      "Using TensorFlow backend.\n"
     ]
    }
   ],
   "source": [
    "import keras\n",
    "from keras.models import Sequential\n",
    "from keras.layers import Dense"
   ]
  },
  {
   "cell_type": "code",
   "execution_count": 24,
   "metadata": {},
   "outputs": [],
   "source": [
    "#initializing the ANN\n",
    "classifier = Sequential()"
   ]
  },
  {
   "cell_type": "code",
   "execution_count": 25,
   "metadata": {},
   "outputs": [
    {
     "data": {
      "text/plain": [
       "<keras.engine.sequential.Sequential at 0x1a38ff231d0>"
      ]
     },
     "execution_count": 25,
     "metadata": {},
     "output_type": "execute_result"
    }
   ],
   "source": [
    "classifier"
   ]
  },
  {
   "cell_type": "markdown",
   "metadata": {},
   "source": [
    "Adding layers:"
   ]
  },
  {
   "cell_type": "code",
   "execution_count": 26,
   "metadata": {},
   "outputs": [
    {
     "name": "stdout",
     "output_type": "stream",
     "text": [
      "WARNING:tensorflow:From C:\\Users\\Saurav\\Anaconda3\\lib\\site-packages\\tensorflow\\python\\ops\\resource_variable_ops.py:435: colocate_with (from tensorflow.python.framework.ops) is deprecated and will be removed in a future version.\n",
      "Instructions for updating:\n",
      "Colocations handled automatically by placer.\n"
     ]
    }
   ],
   "source": [
    "#adding the input layer and the first hidden layer\n",
    "classifier.add(Dense(units = 6, kernel_initializer = \"uniform\", activation = \"relu\", input_dim = 11))"
   ]
  },
  {
   "cell_type": "code",
   "execution_count": 27,
   "metadata": {},
   "outputs": [],
   "source": [
    "#adding the second hidden layer\n",
    "classifier.add(Dense(units = 6, kernel_initializer = \"uniform\", activation = \"relu\"))"
   ]
  },
  {
   "cell_type": "code",
   "execution_count": 28,
   "metadata": {},
   "outputs": [],
   "source": [
    "#adding output layer\n",
    "#need only 1 node in the output layer\n",
    "classifier.add(Dense(units = 1, kernel_initializer = \"uniform\", activation = \"sigmoid\"))"
   ]
  },
  {
   "cell_type": "code",
   "execution_count": 29,
   "metadata": {},
   "outputs": [],
   "source": [
    "#compiling the whole NN by adding the stochastic\n",
    "classifier.compile(optimizer = \"adam\", loss = \"binary_crossentropy\", metrics = [\"accuracy\"])"
   ]
  },
  {
   "cell_type": "code",
   "execution_count": 30,
   "metadata": {
    "scrolled": true
   },
   "outputs": [
    {
     "name": "stdout",
     "output_type": "stream",
     "text": [
      "WARNING:tensorflow:From C:\\Users\\Saurav\\Anaconda3\\lib\\site-packages\\tensorflow\\python\\ops\\math_ops.py:3066: to_int32 (from tensorflow.python.ops.math_ops) is deprecated and will be removed in a future version.\n",
      "Instructions for updating:\n",
      "Use tf.cast instead.\n",
      "Epoch 1/100\n",
      "8000/8000 [==============================] - 3s 375us/step - loss: 0.4892 - accuracy: 0.7954\n",
      "Epoch 2/100\n",
      "8000/8000 [==============================] - 1s 175us/step - loss: 0.4261 - accuracy: 0.7960\n",
      "Epoch 3/100\n",
      "8000/8000 [==============================] - 1s 169us/step - loss: 0.4212 - accuracy: 0.7984\n",
      "Epoch 4/100\n",
      "8000/8000 [==============================] - 1s 167us/step - loss: 0.4177 - accuracy: 0.8239\n",
      "Epoch 5/100\n",
      "8000/8000 [==============================] - 1s 165us/step - loss: 0.4156 - accuracy: 0.8278\n",
      "Epoch 6/100\n",
      "8000/8000 [==============================] - 1s 167us/step - loss: 0.4141 - accuracy: 0.8319\n",
      "Epoch 7/100\n",
      "8000/8000 [==============================] - 1s 169us/step - loss: 0.4126 - accuracy: 0.8314\n",
      "Epoch 8/100\n",
      "8000/8000 [==============================] - 2s 197us/step - loss: 0.4109 - accuracy: 0.8314\n",
      "Epoch 9/100\n",
      "8000/8000 [==============================] - 1s 176us/step - loss: 0.4103 - accuracy: 0.8338\n",
      "Epoch 10/100\n",
      "8000/8000 [==============================] - 1s 185us/step - loss: 0.4090 - accuracy: 0.8338\n",
      "Epoch 11/100\n",
      "8000/8000 [==============================] - 1s 170us/step - loss: 0.4081 - accuracy: 0.8326\n",
      "Epoch 12/100\n",
      "8000/8000 [==============================] - 1s 169us/step - loss: 0.4073 - accuracy: 0.8345\n",
      "Epoch 13/100\n",
      "8000/8000 [==============================] - 1s 165us/step - loss: 0.4070 - accuracy: 0.8335\n",
      "Epoch 14/100\n",
      "8000/8000 [==============================] - 1s 163us/step - loss: 0.4064 - accuracy: 0.8342\n",
      "Epoch 15/100\n",
      "8000/8000 [==============================] - 1s 165us/step - loss: 0.4057 - accuracy: 0.8342\n",
      "Epoch 16/100\n",
      "8000/8000 [==============================] - 1s 169us/step - loss: 0.4056 - accuracy: 0.8336\n",
      "Epoch 17/100\n",
      "8000/8000 [==============================] - 1s 165us/step - loss: 0.4052 - accuracy: 0.8344\n",
      "Epoch 18/100\n",
      "8000/8000 [==============================] - 1s 167us/step - loss: 0.4048 - accuracy: 0.8357\n",
      "Epoch 19/100\n",
      "8000/8000 [==============================] - 1s 165us/step - loss: 0.4047 - accuracy: 0.8340\n",
      "Epoch 20/100\n",
      "8000/8000 [==============================] - 1s 167us/step - loss: 0.4046 - accuracy: 0.8342\n",
      "Epoch 21/100\n",
      "8000/8000 [==============================] - 1s 165us/step - loss: 0.4046 - accuracy: 0.8345\n",
      "Epoch 22/100\n",
      "8000/8000 [==============================] - 1s 168us/step - loss: 0.4037 - accuracy: 0.8338\n",
      "Epoch 23/100\n",
      "8000/8000 [==============================] - 1s 166us/step - loss: 0.4040 - accuracy: 0.8350\n",
      "Epoch 24/100\n",
      "8000/8000 [==============================] - 1s 170us/step - loss: 0.4037 - accuracy: 0.8338\n",
      "Epoch 25/100\n",
      "8000/8000 [==============================] - 1s 170us/step - loss: 0.4040 - accuracy: 0.8338\n",
      "Epoch 26/100\n",
      "8000/8000 [==============================] - 2s 194us/step - loss: 0.4035 - accuracy: 0.8346\n",
      "Epoch 27/100\n",
      "8000/8000 [==============================] - 2s 233us/step - loss: 0.4036 - accuracy: 0.8344\n",
      "Epoch 28/100\n",
      "8000/8000 [==============================] - 2s 205us/step - loss: 0.4032 - accuracy: 0.8332\n",
      "Epoch 29/100\n",
      "8000/8000 [==============================] - 2s 191us/step - loss: 0.4033 - accuracy: 0.8357\n",
      "Epoch 30/100\n",
      "8000/8000 [==============================] - 2s 206us/step - loss: 0.4030 - accuracy: 0.8345\n",
      "Epoch 31/100\n",
      "8000/8000 [==============================] - 2s 190us/step - loss: 0.4034 - accuracy: 0.8336\n",
      "Epoch 32/100\n",
      "8000/8000 [==============================] - 2s 203us/step - loss: 0.4024 - accuracy: 0.8325\n",
      "Epoch 33/100\n",
      "8000/8000 [==============================] - 2s 188us/step - loss: 0.4031 - accuracy: 0.8341\n",
      "Epoch 34/100\n",
      "8000/8000 [==============================] - 1s 187us/step - loss: 0.4025 - accuracy: 0.8342\n",
      "Epoch 35/100\n",
      "8000/8000 [==============================] - 2s 190us/step - loss: 0.4030 - accuracy: 0.8338\n",
      "Epoch 36/100\n",
      "8000/8000 [==============================] - 2s 189us/step - loss: 0.4028 - accuracy: 0.8350\n",
      "Epoch 37/100\n",
      "8000/8000 [==============================] - 2s 190us/step - loss: 0.4023 - accuracy: 0.8342\n",
      "Epoch 38/100\n",
      "8000/8000 [==============================] - 2s 192us/step - loss: 0.4026 - accuracy: 0.8338\n",
      "Epoch 39/100\n",
      "8000/8000 [==============================] - 2s 249us/step - loss: 0.4025 - accuracy: 0.8351\n",
      "Epoch 40/100\n",
      "8000/8000 [==============================] - 2s 269us/step - loss: 0.4028 - accuracy: 0.8356\n",
      "Epoch 41/100\n",
      "8000/8000 [==============================] - 2s 189us/step - loss: 0.4024 - accuracy: 0.8346\n",
      "Epoch 42/100\n",
      "8000/8000 [==============================] - 2s 274us/step - loss: 0.4021 - accuracy: 0.8345\n",
      "Epoch 43/100\n",
      "8000/8000 [==============================] - 2s 226us/step - loss: 0.4022 - accuracy: 0.8347\n",
      "Epoch 44/100\n",
      "8000/8000 [==============================] - 2s 206us/step - loss: 0.4020 - accuracy: 0.8342\n",
      "Epoch 45/100\n",
      "8000/8000 [==============================] - 2s 196us/step - loss: 0.4024 - accuracy: 0.8341\n",
      "Epoch 46/100\n",
      "8000/8000 [==============================] - 2s 199us/step - loss: 0.4021 - accuracy: 0.8350\n",
      "Epoch 47/100\n",
      "8000/8000 [==============================] - 2s 197us/step - loss: 0.4020 - accuracy: 0.8335\n",
      "Epoch 48/100\n",
      "8000/8000 [==============================] - 2s 207us/step - loss: 0.4020 - accuracy: 0.8344\n",
      "Epoch 49/100\n",
      "8000/8000 [==============================] - 2s 197us/step - loss: 0.4024 - accuracy: 0.8351\n",
      "Epoch 50/100\n",
      "8000/8000 [==============================] - 2s 196us/step - loss: 0.4024 - accuracy: 0.8339\n",
      "Epoch 51/100\n",
      "8000/8000 [==============================] - 2s 209us/step - loss: 0.4014 - accuracy: 0.8356\n",
      "Epoch 52/100\n",
      "8000/8000 [==============================] - 1s 181us/step - loss: 0.4018 - accuracy: 0.8336\n",
      "Epoch 53/100\n",
      "8000/8000 [==============================] - 1s 161us/step - loss: 0.4023 - accuracy: 0.8331\n",
      "Epoch 54/100\n",
      "8000/8000 [==============================] - 1s 164us/step - loss: 0.4023 - accuracy: 0.8341\n",
      "Epoch 55/100\n",
      "8000/8000 [==============================] - 1s 167us/step - loss: 0.4020 - accuracy: 0.8344\n",
      "Epoch 56/100\n",
      "8000/8000 [==============================] - 1s 162us/step - loss: 0.4019 - accuracy: 0.8346\n",
      "Epoch 57/100\n",
      "8000/8000 [==============================] - 1s 160us/step - loss: 0.4015 - accuracy: 0.8340\n",
      "Epoch 58/100\n",
      "8000/8000 [==============================] - 1s 157us/step - loss: 0.4017 - accuracy: 0.8339\n",
      "Epoch 59/100\n",
      "8000/8000 [==============================] - 1s 159us/step - loss: 0.4018 - accuracy: 0.8353\n",
      "Epoch 60/100\n",
      "8000/8000 [==============================] - 1s 162us/step - loss: 0.4020 - accuracy: 0.8329\n",
      "Epoch 61/100\n",
      "8000/8000 [==============================] - 2s 195us/step - loss: 0.4019 - accuracy: 0.8345\n",
      "Epoch 62/100\n",
      "8000/8000 [==============================] - 2s 195us/step - loss: 0.4021 - accuracy: 0.8344\n",
      "Epoch 63/100\n",
      "8000/8000 [==============================] - 1s 171us/step - loss: 0.4024 - accuracy: 0.8341\n",
      "Epoch 64/100\n",
      "8000/8000 [==============================] - 1s 170us/step - loss: 0.4018 - accuracy: 0.8338\n",
      "Epoch 65/100\n",
      "8000/8000 [==============================] - 1s 169us/step - loss: 0.4018 - accuracy: 0.8339\n",
      "Epoch 66/100\n",
      "8000/8000 [==============================] - 1s 156us/step - loss: 0.4019 - accuracy: 0.8359\n",
      "Epoch 67/100\n",
      "8000/8000 [==============================] - 1s 158us/step - loss: 0.4019 - accuracy: 0.8334\n",
      "Epoch 68/100\n",
      "8000/8000 [==============================] - 1s 172us/step - loss: 0.4018 - accuracy: 0.8339\n",
      "Epoch 69/100\n",
      "8000/8000 [==============================] - 1s 169us/step - loss: 0.4017 - accuracy: 0.8345\n",
      "Epoch 70/100\n",
      "8000/8000 [==============================] - 1s 168us/step - loss: 0.4018 - accuracy: 0.8354\n",
      "Epoch 71/100\n",
      "8000/8000 [==============================] - 1s 166us/step - loss: 0.4018 - accuracy: 0.8351\n",
      "Epoch 72/100\n",
      "8000/8000 [==============================] - 1s 183us/step - loss: 0.4013 - accuracy: 0.8345\n",
      "Epoch 73/100\n",
      "8000/8000 [==============================] - 2s 189us/step - loss: 0.4018 - accuracy: 0.8345\n",
      "Epoch 74/100\n",
      "8000/8000 [==============================] - 2s 191us/step - loss: 0.4022 - accuracy: 0.8336\n",
      "Epoch 75/100\n",
      "8000/8000 [==============================] - 1s 183us/step - loss: 0.4019 - accuracy: 0.8361\n",
      "Epoch 76/100\n",
      "8000/8000 [==============================] - 1s 163us/step - loss: 0.4015 - accuracy: 0.8341\n",
      "Epoch 77/100\n",
      "8000/8000 [==============================] - 1s 159us/step - loss: 0.4016 - accuracy: 0.8340\n",
      "Epoch 78/100\n",
      "8000/8000 [==============================] - 1s 145us/step - loss: 0.4021 - accuracy: 0.8341\n",
      "Epoch 79/100\n",
      "8000/8000 [==============================] - 1s 147us/step - loss: 0.4019 - accuracy: 0.8341\n",
      "Epoch 80/100\n",
      "8000/8000 [==============================] - 1s 145us/step - loss: 0.4018 - accuracy: 0.8353\n",
      "Epoch 81/100\n",
      "8000/8000 [==============================] - 1s 146us/step - loss: 0.4019 - accuracy: 0.8340\n",
      "Epoch 82/100\n",
      "8000/8000 [==============================] - 1s 147us/step - loss: 0.4016 - accuracy: 0.8335\n",
      "Epoch 83/100\n",
      "8000/8000 [==============================] - 1s 147us/step - loss: 0.4016 - accuracy: 0.8331\n",
      "Epoch 84/100\n",
      "8000/8000 [==============================] - 1s 146us/step - loss: 0.4018 - accuracy: 0.8350\n",
      "Epoch 85/100\n",
      "8000/8000 [==============================] - 1s 150us/step - loss: 0.4016 - accuracy: 0.8331\n",
      "Epoch 86/100\n",
      "8000/8000 [==============================] - 1s 146us/step - loss: 0.4014 - accuracy: 0.8336\n",
      "Epoch 87/100\n",
      "8000/8000 [==============================] - 1s 149us/step - loss: 0.4014 - accuracy: 0.8342\n",
      "Epoch 88/100\n",
      "8000/8000 [==============================] - 1s 150us/step - loss: 0.4018 - accuracy: 0.8335\n",
      "Epoch 89/100\n",
      "8000/8000 [==============================] - 1s 185us/step - loss: 0.4017 - accuracy: 0.8344\n",
      "Epoch 90/100\n",
      "8000/8000 [==============================] - 1s 185us/step - loss: 0.4021 - accuracy: 0.8345\n",
      "Epoch 91/100\n",
      "8000/8000 [==============================] - 1s 184us/step - loss: 0.4019 - accuracy: 0.8339\n",
      "Epoch 92/100\n",
      "8000/8000 [==============================] - 1s 174us/step - loss: 0.4012 - accuracy: 0.8342\n",
      "Epoch 93/100\n",
      "8000/8000 [==============================] - 1s 173us/step - loss: 0.4015 - accuracy: 0.8338\n",
      "Epoch 94/100\n",
      "8000/8000 [==============================] - 1s 160us/step - loss: 0.4019 - accuracy: 0.8342\n",
      "Epoch 95/100\n",
      "8000/8000 [==============================] - 1s 160us/step - loss: 0.4014 - accuracy: 0.8342\n",
      "Epoch 96/100\n",
      "8000/8000 [==============================] - 2s 193us/step - loss: 0.4015 - accuracy: 0.8334\n",
      "Epoch 97/100\n",
      "8000/8000 [==============================] - 2s 228us/step - loss: 0.4011 - accuracy: 0.8351\n",
      "Epoch 98/100\n",
      "8000/8000 [==============================] - 1s 170us/step - loss: 0.4019 - accuracy: 0.8334\n",
      "Epoch 99/100\n",
      "8000/8000 [==============================] - 1s 175us/step - loss: 0.4014 - accuracy: 0.8338\n",
      "Epoch 100/100\n",
      "8000/8000 [==============================] - 2s 191us/step - loss: 0.4015 - accuracy: 0.8336\n"
     ]
    },
    {
     "data": {
      "text/plain": [
       "<keras.callbacks.callbacks.History at 0x1a394bb0e48>"
      ]
     },
     "execution_count": 30,
     "metadata": {},
     "output_type": "execute_result"
    }
   ],
   "source": [
    "#fitting the ANN to the training set\n",
    "classifier.fit(X_train, y_train, batch_size = 10, epochs = 100)"
   ]
  },
  {
   "cell_type": "markdown",
   "metadata": {},
   "source": [
    "Accuracy is 83.36%."
   ]
  },
  {
   "cell_type": "code",
   "execution_count": 31,
   "metadata": {},
   "outputs": [],
   "source": [
    "#predicting on the test set\n",
    "y_pred = classifier.predict(X_test)"
   ]
  },
  {
   "cell_type": "code",
   "execution_count": 32,
   "metadata": {
    "scrolled": true
   },
   "outputs": [
    {
     "data": {
      "text/plain": [
       "array([[0.19998315],\n",
       "       [0.27874526],\n",
       "       [0.1835531 ],\n",
       "       ...,\n",
       "       [0.14484757],\n",
       "       [0.12836206],\n",
       "       [0.0932177 ]], dtype=float32)"
      ]
     },
     "execution_count": 32,
     "metadata": {},
     "output_type": "execute_result"
    }
   ],
   "source": [
    "#probabilities of leaving bank\n",
    "y_pred"
   ]
  },
  {
   "cell_type": "code",
   "execution_count": 33,
   "metadata": {},
   "outputs": [],
   "source": [
    "#convert probs to 0 and 1\n",
    "y_pred = (y_pred > 0.5)"
   ]
  },
  {
   "cell_type": "code",
   "execution_count": 34,
   "metadata": {},
   "outputs": [
    {
     "data": {
      "text/plain": [
       "array([[False],\n",
       "       [False],\n",
       "       [False],\n",
       "       ...,\n",
       "       [False],\n",
       "       [False],\n",
       "       [False]])"
      ]
     },
     "execution_count": 34,
     "metadata": {},
     "output_type": "execute_result"
    }
   ],
   "source": [
    "y_pred"
   ]
  },
  {
   "cell_type": "code",
   "execution_count": 35,
   "metadata": {},
   "outputs": [
    {
     "data": {
      "text/plain": [
       "array([0, 1, 0, ..., 0, 0, 0], dtype=int64)"
      ]
     },
     "execution_count": 35,
     "metadata": {},
     "output_type": "execute_result"
    }
   ],
   "source": [
    "y_test"
   ]
  },
  {
   "cell_type": "code",
   "execution_count": 36,
   "metadata": {},
   "outputs": [],
   "source": [
    "#CM to check accuracy on test set\n",
    "from sklearn.metrics import confusion_matrix\n",
    "cm = confusion_matrix(y_test, y_pred)"
   ]
  },
  {
   "cell_type": "code",
   "execution_count": 37,
   "metadata": {},
   "outputs": [
    {
     "data": {
      "text/plain": [
       "array([[1560,   35],\n",
       "       [ 288,  117]], dtype=int64)"
      ]
     },
     "execution_count": 37,
     "metadata": {},
     "output_type": "execute_result"
    }
   ],
   "source": [
    "cm"
   ]
  },
  {
   "cell_type": "code",
   "execution_count": 38,
   "metadata": {},
   "outputs": [
    {
     "data": {
      "text/plain": [
       "0.8385"
      ]
     },
     "execution_count": 38,
     "metadata": {},
     "output_type": "execute_result"
    }
   ],
   "source": [
    "#checking accuracy\n",
    "(1560+117)/(1560+35+288+117)"
   ]
  },
  {
   "cell_type": "markdown",
   "metadata": {},
   "source": [
    "## It is done."
   ]
  },
  {
   "cell_type": "markdown",
   "metadata": {},
   "source": [
    "### Another use of this algorithm is that the bank can make a ranking of top customers who will leave the bank and analyze them further in order to take certain steps to prevent said customers from leaving the bank."
   ]
  },
  {
   "cell_type": "markdown",
   "metadata": {},
   "source": [
    "### Predicting for a new test case\n",
    "\n",
    "Lets say we have the following information for a customer.\n",
    "\n",
    "+ Geography: France\n",
    "+ Credit Score: 600\n",
    "+ Gender: Male\n",
    "+ Age: 40 years old\n",
    "+ Tenure: 3 years\n",
    "+ Balance: 60000 (in dollars)\n",
    "+ Number of Products: 2\n",
    "+ Does this customer have a credit card? Yes\n",
    "+ Is this customer an Active Member: Yes\n",
    "+ Estimated Salary: 50000 (in dollars)\n",
    "\n",
    "So should we say goodbye to that customer?"
   ]
  },
  {
   "cell_type": "code",
   "execution_count": 51,
   "metadata": {},
   "outputs": [],
   "source": [
    "new_prediction = classifier.predict(sc.transform(np.array([[0.0, 0, 600, 1, 40, 3, 60000, 2, 1, 1, 50000]])))\n",
    "new_prediction = (new_prediction > 0.5)                                   "
   ]
  },
  {
   "cell_type": "code",
   "execution_count": 52,
   "metadata": {},
   "outputs": [
    {
     "data": {
      "text/plain": [
       "array([[False]])"
      ]
     },
     "execution_count": 52,
     "metadata": {},
     "output_type": "execute_result"
    }
   ],
   "source": [
    "new_prediction"
   ]
  },
  {
   "cell_type": "markdown",
   "metadata": {},
   "source": [
    "The customer won't leave the bank."
   ]
  }
 ],
 "metadata": {
  "kernelspec": {
   "display_name": "Python 3",
   "language": "python",
   "name": "python3"
  },
  "language_info": {
   "codemirror_mode": {
    "name": "ipython",
    "version": 3
   },
   "file_extension": ".py",
   "mimetype": "text/x-python",
   "name": "python",
   "nbconvert_exporter": "python",
   "pygments_lexer": "ipython3",
   "version": "3.6.8"
  }
 },
 "nbformat": 4,
 "nbformat_minor": 2
}
